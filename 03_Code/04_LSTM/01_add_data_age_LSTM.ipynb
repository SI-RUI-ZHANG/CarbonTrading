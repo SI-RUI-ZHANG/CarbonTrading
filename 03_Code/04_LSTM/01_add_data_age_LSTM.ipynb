{
 "cells": [
  {
   "cell_type": "markdown",
   "metadata": {},
   "source": [
    "# Add Data Age Features for LSTM\n",
    "\n",
    "This notebook adds \"data age\" columns to track how many days have passed since the last actual observation for macroeconomic indicators. This helps LSTM models understand data freshness vs forward-filled staleness."
   ]
  },
  {
   "cell_type": "code",
   "execution_count": 1,
   "metadata": {},
   "outputs": [],
   "source": [
    "import pandas as pd\n",
    "import numpy as np\n",
    "import os"
   ]
  },
  {
   "cell_type": "markdown",
   "metadata": {},
   "source": [
    "## Load Feature-Engineered Data"
   ]
  },
  {
   "cell_type": "code",
   "execution_count": 2,
   "metadata": {},
   "outputs": [
    {
     "name": "stdout",
     "output_type": "stream",
     "text": [
      "HBEA shape: (4027, 25)\n",
      "GDEA shape: (3967, 25)\n",
      "\n",
      "Columns: ['close', 'vwap', 'volume_tons', 'turnover_cny', 'cum_turnover_cny', 'is_open', 'is_quiet', 'has_trade', 'Hubei_ElectricityConsumption_Monthly_ffill_daily_15', 'Hubei_IndustrialAddedValue_RealPrices_AboveScaleIndustry_YoY_ffill_daily_15', 'Hubei_GDP_Cumulative_ffill_daily_15', 'China_Output_CrudeOilProcessing_Monthly_ffill_daily_15', 'FuturesSettle(Cont)_BrentCrude_ffill_daily_1', 'FuturesClose(Cont)_NYMEX_NatGas_ffill_daily_1', 'China_Output_CrudeSteel_Monthly_ffill_daily_15', 'China_ElectricityGeneration_ThermalPower_Monthly_ffill_daily_15', 'China_TotalSocialFinancing_Monthly_ffill_daily_15', 'FuturesSettle(Cont)_EUA_Futures_ffill_daily_1', 'China_CPI_YoY_ffill_daily_15', 'China_TotalElectricityConsumption_Monthly_ffill_daily_15', 'China_Output_RawCoal_Monthly_ffill_daily_15', 'China_GDP_CurrentPrices_Cumulative_ffill_daily_15', 'China_Output_Cement_Monthly_ffill_daily_15', 'China_ManufacturingPMI_ffill_daily_15', 'CFETS_SpotFX_USD_CNY_ffill_daily_1']\n"
     ]
    }
   ],
   "source": [
    "# Load the data with macro features already joined\n",
    "data_dir = os.path.join(\"../../02_Data_Processed/03_Feature_Engineered/\")\n",
    "\n",
    "hbea_df = pd.read_parquet(os.path.join(data_dir, \"HBEA_daily_with_macro.parquet\"))\n",
    "gdea_df = pd.read_parquet(os.path.join(data_dir, \"GDEA_daily_with_macro.parquet\"))\n",
    "\n",
    "print(f\"HBEA shape: {hbea_df.shape}\")\n",
    "print(f\"GDEA shape: {gdea_df.shape}\")\n",
    "print(f\"\\nColumns: {list(hbea_df.columns)}\")"
   ]
  },
  {
   "cell_type": "markdown",
   "metadata": {},
   "source": [
    "## Define Data Age Calculation Function"
   ]
  },
  {
   "cell_type": "code",
   "execution_count": 3,
   "metadata": {},
   "outputs": [],
   "source": [
    "def add_data_age(df, column):\n",
    "    \"\"\"\n",
    "    Calculate data age for a column.\n",
    "    Age = 0 when value changes (fresh data)\n",
    "    Age increments for each day the value stays the same (forward-filled)\n",
    "    \n",
    "    Args:\n",
    "        df: DataFrame with the column\n",
    "        column: Column name to calculate age for\n",
    "    \n",
    "    Returns:\n",
    "        Series with age values\n",
    "    \"\"\"\n",
    "    # Detect when value actually changes (new observation)\n",
    "    value_changed = df[column].ne(df[column].shift())\n",
    "    \n",
    "    # Group by change points and count days within each group\n",
    "    # This gives us 0 for first day of new value, then 1, 2, 3...\n",
    "    age = (~value_changed).groupby(value_changed.cumsum()).cumsum()\n",
    "    \n",
    "    return age"
   ]
  },
  {
   "cell_type": "markdown",
   "metadata": {},
   "source": [
    "## Identify Columns for Age Tracking"
   ]
  },
  {
   "cell_type": "code",
   "execution_count": 4,
   "metadata": {},
   "outputs": [
    {
     "name": "stdout",
     "output_type": "stream",
     "text": [
      "HBEA macro columns (17): ['Hubei_ElectricityConsumption_Monthly_ffill_daily_15', 'Hubei_IndustrialAddedValue_RealPrices_AboveScaleIndustry_YoY_ffill_daily_15', 'Hubei_GDP_Cumulative_ffill_daily_15', 'China_Output_CrudeOilProcessing_Monthly_ffill_daily_15', 'FuturesSettle(Cont)_BrentCrude_ffill_daily_1']...\n",
      "GDEA macro columns (17): ['Guangdong_GDP_Cumulative_ffill_daily_15', 'Guangdong_ElectricityConsumption_Monthly_ffill_daily_15', 'Guangdong_IndustrialAddedValue_RealPrices_AboveScaleIndustry_YoY_ffill_daily_15', 'China_Output_CrudeOilProcessing_Monthly_ffill_daily_15', 'FuturesSettle(Cont)_BrentCrude_ffill_daily_1']...\n"
     ]
    }
   ],
   "source": [
    "# Carbon market columns that don't need age tracking (always fresh daily data)\n",
    "carbon_columns = ['close', 'vwap', 'volume_tons', 'turnover_cny', \n",
    "                  'cum_turnover_cny', 'is_open', 'is_quiet', 'has_trade']\n",
    "\n",
    "# Get macro columns (those with lag suffixes)\n",
    "def get_macro_columns(df):\n",
    "    \"\"\"Identify macro columns by excluding carbon market columns\"\"\"\n",
    "    return [col for col in df.columns if col not in carbon_columns]\n",
    "\n",
    "hbea_macro_cols = get_macro_columns(hbea_df)\n",
    "gdea_macro_cols = get_macro_columns(gdea_df)\n",
    "\n",
    "print(f\"HBEA macro columns ({len(hbea_macro_cols)}): {hbea_macro_cols[:5]}...\")\n",
    "print(f\"GDEA macro columns ({len(gdea_macro_cols)}): {gdea_macro_cols[:5]}...\")"
   ]
  },
  {
   "cell_type": "markdown",
   "metadata": {},
   "source": [
    "## Add Data Age Columns"
   ]
  },
  {
   "cell_type": "code",
   "execution_count": 5,
   "metadata": {},
   "outputs": [
    {
     "name": "stdout",
     "output_type": "stream",
     "text": [
      "Adding age columns for HBEA...\n",
      "Adding age columns for GDEA...\n",
      "\n",
      "HBEA LSTM shape: (4027, 42)\n",
      "GDEA LSTM shape: (3967, 42)\n"
     ]
    }
   ],
   "source": [
    "def add_age_columns(df, macro_columns):\n",
    "    \"\"\"\n",
    "    Add age columns for all macro indicators in the dataframe.\n",
    "    \n",
    "    Args:\n",
    "        df: Original dataframe\n",
    "        macro_columns: List of columns to add age for\n",
    "    \n",
    "    Returns:\n",
    "        DataFrame with added age columns\n",
    "    \"\"\"\n",
    "    df_with_age = df.copy()\n",
    "    \n",
    "    for col in macro_columns:\n",
    "        age_col_name = f\"{col}_age\"\n",
    "        df_with_age[age_col_name] = add_data_age(df_with_age, col)\n",
    "        \n",
    "    return df_with_age\n",
    "\n",
    "# Process both datasets\n",
    "print(\"Adding age columns for HBEA...\")\n",
    "hbea_lstm = add_age_columns(hbea_df, hbea_macro_cols)\n",
    "\n",
    "print(\"Adding age columns for GDEA...\")\n",
    "gdea_lstm = add_age_columns(gdea_df, gdea_macro_cols)\n",
    "\n",
    "print(f\"\\nHBEA LSTM shape: {hbea_lstm.shape}\")\n",
    "print(f\"GDEA LSTM shape: {gdea_lstm.shape}\")"
   ]
  },
  {
   "cell_type": "markdown",
   "metadata": {},
   "source": [
    "## Verify Age Calculation"
   ]
  },
  {
   "cell_type": "code",
   "execution_count": 6,
   "metadata": {},
   "outputs": [
    {
     "name": "stdout",
     "output_type": "stream",
     "text": [
      "Sample of data age calculation:\n",
      "Value changes (True = new observation):\n",
      "            China_CPI_YoY_ffill_daily_15  China_CPI_YoY_ffill_daily_15_age\n",
      "date                                                                      \n",
      "2014-08-06                        2.3361                                22\n",
      "2014-08-13                        2.3361                                29\n",
      "2014-08-14                        2.3361                                30\n",
      "2014-08-15                        2.2852                                 0\n",
      "\n",
      "Age statistics:\n",
      "Max age: 61\n",
      "Mean age: 16.61\n",
      "Age resets (value=0): 159\n"
     ]
    }
   ],
   "source": [
    "# Check a monthly indicator to verify age calculation\n",
    "sample_col = 'China_CPI_YoY_ffill_daily_15'\n",
    "if sample_col in hbea_lstm.columns:\n",
    "    sample_data = hbea_lstm[[sample_col, f'{sample_col}_age']].iloc[100:130]\n",
    "    \n",
    "    # Show periods where value changes and age resets\n",
    "    value_changes = sample_data[sample_col] != sample_data[sample_col].shift()\n",
    "    \n",
    "    print(\"Sample of data age calculation:\")\n",
    "    print(\"Value changes (True = new observation):\")\n",
    "    print(sample_data[value_changes | value_changes.shift(-1) | value_changes.shift(-2)])\n",
    "    \n",
    "    # Verify age patterns\n",
    "    print(\"\\nAge statistics:\")\n",
    "    print(f\"Max age: {hbea_lstm[f'{sample_col}_age'].max()}\")\n",
    "    print(f\"Mean age: {hbea_lstm[f'{sample_col}_age'].mean():.2f}\")\n",
    "    print(f\"Age resets (value=0): {(hbea_lstm[f'{sample_col}_age'] == 0).sum()}\")"
   ]
  },
  {
   "cell_type": "markdown",
   "metadata": {},
   "source": [
    "## Analyze Age Patterns by Indicator Type"
   ]
  },
  {
   "cell_type": "code",
   "execution_count": 7,
   "metadata": {},
   "outputs": [
    {
     "data": {
      "image/png": "[encoded data removed]",
      "text/plain": [
       "<Figure size 1400x500 with 2 Axes>"
      ]
     },
     "metadata": {},
     "output_type": "display_data"
    },
    {
     "name": "stdout",
     "output_type": "stream",
     "text": [
      "Age Statistics by Indicator Type:\n",
      "Daily indicator max age: 4 days\n",
      "Monthly indicator max age: 90 days\n"
     ]
    }
   ],
   "source": [
    "# Analyze age patterns for different lag types\n",
    "import matplotlib.pyplot as plt\n",
    "\n",
    "# Separate columns by lag type\n",
    "daily_cols = [col for col in hbea_macro_cols if col.endswith('_1')]\n",
    "monthly_cols = [col for col in hbea_macro_cols if col.endswith('_15')]\n",
    "\n",
    "if daily_cols and monthly_cols:\n",
    "    fig, axes = plt.subplots(1, 2, figsize=(14, 5))\n",
    "    \n",
    "    # Daily indicator age distribution\n",
    "    if daily_cols:\n",
    "        daily_age = hbea_lstm[f'{daily_cols[0]}_age']\n",
    "        axes[0].hist(daily_age, bins=50, edgecolor='black')\n",
    "        axes[0].set_title(f'Age Distribution: Daily Indicator\\n({daily_cols[0]})')\n",
    "        axes[0].set_xlabel('Days Since Last Update')\n",
    "        axes[0].set_ylabel('Frequency')\n",
    "    \n",
    "    # Monthly indicator age distribution\n",
    "    if monthly_cols:\n",
    "        monthly_age = hbea_lstm[f'{monthly_cols[0]}_age']\n",
    "        axes[1].hist(monthly_age, bins=50, edgecolor='black')\n",
    "        axes[1].set_title(f'Age Distribution: Monthly Indicator\\n({monthly_cols[0]})')\n",
    "        axes[1].set_xlabel('Days Since Last Update')\n",
    "        axes[1].set_ylabel('Frequency')\n",
    "    \n",
    "    plt.tight_layout()\n",
    "    plt.show()\n",
    "    \n",
    "    print(\"Age Statistics by Indicator Type:\")\n",
    "    print(f\"Daily indicator max age: {daily_age.max()} days\")\n",
    "    print(f\"Monthly indicator max age: {monthly_age.max()} days\")"
   ]
  },
  {
   "cell_type": "markdown",
   "metadata": {},
   "source": [
    "## Save LSTM-Ready Data"
   ]
  },
  {
   "cell_type": "code",
   "execution_count": 8,
   "metadata": {},
   "outputs": [
    {
     "name": "stdout",
     "output_type": "stream",
     "text": [
      "Saved HBEA LSTM data: ../../02_Data_Processed/03_Feature_Engineered/HBEA_LSTM_age_added.parquet\n",
      "Shape: (4027, 42)\n",
      "\n",
      "Saved GDEA LSTM data: ../../02_Data_Processed/03_Feature_Engineered/GDEA_LSTM_age_added.parquet\n",
      "Shape: (3967, 42)\n"
     ]
    }
   ],
   "source": [
    "# Save the datasets with age features\n",
    "output_dir = os.path.join(\"../../02_Data_Processed/03_Feature_Engineered/\")\n",
    "\n",
    "hbea_output_path = os.path.join(output_dir, \"HBEA_LSTM_age_added.parquet\")\n",
    "gdea_output_path = os.path.join(output_dir, \"GDEA_LSTM_age_added.parquet\")\n",
    "\n",
    "hbea_lstm.to_parquet(hbea_output_path)\n",
    "gdea_lstm.to_parquet(gdea_output_path)\n",
    "\n",
    "print(f\"Saved HBEA LSTM data: {hbea_output_path}\")\n",
    "print(f\"Shape: {hbea_lstm.shape}\")\n",
    "print(f\"\\nSaved GDEA LSTM data: {gdea_output_path}\")\n",
    "print(f\"Shape: {gdea_lstm.shape}\")"
   ]
  },
  {
   "cell_type": "markdown",
   "metadata": {},
   "source": [
    "## Summary"
   ]
  },
  {
   "cell_type": "code",
   "execution_count": 9,
   "metadata": {},
   "outputs": [
    {
     "name": "stdout",
     "output_type": "stream",
     "text": [
      "==================================================\n",
      "LSTM Data Preparation Complete\n",
      "==================================================\n",
      "\n",
      "Original columns: 25\n",
      "Age columns added: 17\n",
      "Total columns: 42\n",
      "\n",
      "Column structure:\n",
      "- Carbon market: 8 columns (no age tracking)\n",
      "- Macro indicators: 17 columns (with age tracking)\n",
      "\n",
      "Example age column names:\n",
      "['Hubei_ElectricityConsumption_Monthly_ffill_daily_15_age', 'Hubei_IndustrialAddedValue_RealPrices_AboveScaleIndustry_YoY_ffill_daily_15_age', 'Hubei_GDP_Cumulative_ffill_daily_15_age', 'China_Output_CrudeOilProcessing_Monthly_ffill_daily_15_age', 'FuturesSettle(Cont)_BrentCrude_ffill_daily_1_age']\n"
     ]
    }
   ],
   "source": [
    "# Final summary\n",
    "print(\"=\" * 50)\n",
    "print(\"LSTM Data Preparation Complete\")\n",
    "print(\"=\" * 50)\n",
    "print(f\"\\nOriginal columns: {len(hbea_df.columns)}\")\n",
    "print(f\"Age columns added: {len(hbea_macro_cols)}\")\n",
    "print(f\"Total columns: {len(hbea_lstm.columns)}\")\n",
    "print(f\"\\nColumn structure:\")\n",
    "print(f\"- Carbon market: {len(carbon_columns)} columns (no age tracking)\")\n",
    "print(f\"- Macro indicators: {len(hbea_macro_cols)} columns (with age tracking)\")\n",
    "print(f\"\\nExample age column names:\")\n",
    "age_cols = [col for col in hbea_lstm.columns if col.endswith('_age')]\n",
    "print(age_cols[:5])"
   ]
  }
 ],
 "metadata": {
  "kernelspec": {
   "display_name": "carbon-trading",
   "language": "python",
   "name": "python3"
  },
  "language_info": {
   "codemirror_mode": {
    "name": "ipython",
    "version": 3
   },
   "file_extension": ".py",
   "mimetype": "text/x-python",
   "name": "python",
   "nbconvert_exporter": "python",
   "pygments_lexer": "ipython3",
   "version": "3.10.16"
  }
 },
 "nbformat": 4,
 "nbformat_minor": 4
}
