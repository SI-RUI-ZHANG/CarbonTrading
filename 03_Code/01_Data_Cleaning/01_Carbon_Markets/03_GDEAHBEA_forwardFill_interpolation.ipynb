{
 "cells": [
  {
   "cell_type": "markdown",
   "metadata": {},
   "source": [
    "# Forward-fill and interpolate the price columns\n"
   ]
  },
  {
   "cell_type": "code",
   "execution_count": 1,
   "metadata": {},
   "outputs": [],
   "source": [
    "import pandas as pd\n",
    "import numpy as np\n",
    "\n",
    "# Load the data\n",
    "df_gdea = pd.read_parquet(\"../../../02_Data_Processed/01_Carbon_Markets/01_Regional/GDEA_processed.parquet\")\n",
    "df_hbea = pd.read_parquet(\"../../../02_Data_Processed/01_Carbon_Markets/01_Regional/HBEA_processed.parquet\")"
   ]
  },
  {
   "cell_type": "markdown",
   "metadata": {},
   "source": [
    "## Forward fill price columns"
   ]
  },
  {
   "cell_type": "code",
   "execution_count": 2,
   "metadata": {},
   "outputs": [],
   "source": [
    "# Forward fill\n",
    "\n",
    "# Forward fill price columns for both datasets\n",
    "df_gdea['close'] = df_gdea['close'].ffill()\n",
    "df_gdea['vwap'] = df_gdea['vwap'].ffill()\n",
    "\n",
    "df_hbea['close'] = df_hbea['close'].ffill()\n",
    "df_hbea['vwap'] = df_hbea['vwap'].ffill()\n",
    "\n",
    "# Save the forward-filled data\n",
    "df_gdea.to_parquet(\"../../../02_Data_Processed/01_Carbon_Markets/01_Regional/GDEA_forward_filled.parquet\")\n",
    "df_hbea.to_parquet(\"../../../02_Data_Processed/01_Carbon_Markets/01_Regional/HBEA_forward_filled.parquet\")"
   ]
  },
  {
   "cell_type": "markdown",
   "metadata": {},
   "source": [
    "## Interpolate price columns"
   ]
  },
  {
   "cell_type": "code",
   "execution_count": 3,
   "metadata": {},
   "outputs": [],
   "source": [
    "# Load the data\n",
    "df_gdea = pd.read_parquet(\"../../../02_Data_Processed/01_Carbon_Markets/01_Regional/GDEA_processed.parquet\")\n",
    "df_hbea = pd.read_parquet(\"../../../02_Data_Processed/01_Carbon_Markets/01_Regional/HBEA_processed.parquet\")"
   ]
  },
  {
   "cell_type": "code",
   "execution_count": 4,
   "metadata": {},
   "outputs": [],
   "source": [
    "# Save the interpolated data\n",
    "df_gdea.to_parquet(\"../../../02_Data_Processed/01_Carbon_Markets/01_Regional/GDEA_interpolated.parquet\")\n",
    "df_hbea.to_parquet(\"../../../02_Data_Processed/01_Carbon_Markets/01_Regional/HBEA_interpolated.parquet\")"
   ]
  },
  {
   "cell_type": "markdown",
   "metadata": {},
   "source": [
    "## Add gap features and create trading-only versions"
   ]
  },
  {
   "cell_type": "code",
   "execution_count": 5,
   "metadata": {},
   "outputs": [
    {
     "name": "stdout",
     "output_type": "stream",
     "text": [
      "Adding gap features...\n",
      "GDEA gap_days distribution:\n",
      "gap_days\n",
      "1    2078\n",
      "0    1330\n",
      "3     486\n",
      "4      26\n",
      "5      15\n",
      "Name: count, dtype: int64\n",
      "\n",
      "HBEA gap_days distribution:\n",
      "gap_days\n",
      "1    2111\n",
      "0    1349\n",
      "3     492\n",
      "4      27\n",
      "5      16\n",
      "Name: count, dtype: int64\n",
      "\n",
      "Weekend patterns detected:\n",
      "GDEA post_weekend days: 486\n",
      "HBEA post_weekend days: 492\n"
     ]
    }
   ],
   "source": [
    "# Reload forward-filled data for gap analysis\n",
    "df_gdea = pd.read_parquet(\"../../../02_Data_Processed/01_Carbon_Markets/01_Regional/GDEA_forward_filled.parquet\")\n",
    "df_hbea = pd.read_parquet(\"../../../02_Data_Processed/01_Carbon_Markets/01_Regional/HBEA_forward_filled.parquet\")\n",
    "\n",
    "def add_gap_features(df):\n",
    "    \"\"\"\n",
    "    Add features to track gaps between trading days.\n",
    "    This captures weekend/holiday information before dropping non-trading days.\n",
    "    \"\"\"\n",
    "    df = df.copy()\n",
    "    df['gap_days'] = 0\n",
    "    \n",
    "    # Get trading dates only\n",
    "    trading_dates = df[df['is_open'] == True].index\n",
    "    \n",
    "    # Calculate gaps between consecutive trading days\n",
    "    for i in range(1, len(trading_dates)):\n",
    "        current_date = trading_dates[i]\n",
    "        prev_date = trading_dates[i-1]\n",
    "        gap = (current_date - prev_date).days\n",
    "        df.loc[current_date, 'gap_days'] = gap\n",
    "    \n",
    "    # Add binary indicators for common patterns\n",
    "    df['post_weekend'] = df['gap_days'] == 3  # Friday to Monday\n",
    "    df['post_holiday'] = df['gap_days'] > 3   # Longer gaps indicate holidays\n",
    "    \n",
    "    return df\n",
    "\n",
    "# Apply gap features\n",
    "print(\"Adding gap features...\")\n",
    "df_gdea = add_gap_features(df_gdea)\n",
    "df_hbea = add_gap_features(df_hbea)\n",
    "\n",
    "# Verify gap features\n",
    "print(f\"GDEA gap_days distribution:\\n{df_gdea['gap_days'].value_counts().head()}\")\n",
    "print(f\"\\nHBEA gap_days distribution:\\n{df_hbea['gap_days'].value_counts().head()}\")\n",
    "print(f\"\\nWeekend patterns detected:\")\n",
    "print(f\"GDEA post_weekend days: {df_gdea['post_weekend'].sum()}\")\n",
    "print(f\"HBEA post_weekend days: {df_hbea['post_weekend'].sum()}\")"
   ]
  },
  {
   "cell_type": "markdown",
   "metadata": {},
   "source": [
    "## Create and save trading-only versions"
   ]
  },
  {
   "cell_type": "code",
   "execution_count": 6,
   "metadata": {},
   "outputs": [
    {
     "name": "stdout",
     "output_type": "stream",
     "text": [
      "Original GDEA shape: (3967, 11)\n",
      "Trading-only GDEA shape: (2638, 11)\n",
      "Removed 1329 non-trading days (33.5%)\n",
      "\n",
      "Original HBEA shape: (4027, 11)\n",
      "Trading-only HBEA shape: (2679, 11)\n",
      "Removed 1348 non-trading days (33.5%)\n",
      "\n",
      "Saved trading-only data as standard forward_filled files\n",
      "All downstream processes will now use trading-only data by default\n"
     ]
    }
   ],
   "source": [
    "# Create trading-only versions (drop non-trading days)\n",
    "df_gdea_trading = df_gdea[df_gdea['is_open'] == True].copy()\n",
    "df_hbea_trading = df_hbea[df_hbea['is_open'] == True].copy()\n",
    "\n",
    "print(f\"Original GDEA shape: {df_gdea.shape}\")\n",
    "print(f\"Trading-only GDEA shape: {df_gdea_trading.shape}\")\n",
    "print(f\"Removed {df_gdea.shape[0] - df_gdea_trading.shape[0]} non-trading days ({(df_gdea.shape[0] - df_gdea_trading.shape[0])/df_gdea.shape[0]*100:.1f}%)\")\n",
    "\n",
    "print(f\"\\nOriginal HBEA shape: {df_hbea.shape}\")\n",
    "print(f\"Trading-only HBEA shape: {df_hbea_trading.shape}\")\n",
    "print(f\"Removed {df_hbea.shape[0] - df_hbea_trading.shape[0]} non-trading days ({(df_hbea.shape[0] - df_hbea_trading.shape[0])/df_hbea.shape[0]*100:.1f}%)\")\n",
    "\n",
    "# Save ONLY trading-only versions as the standard forward_filled files\n",
    "df_gdea_trading.to_parquet(\"../../../02_Data_Processed/01_Carbon_Markets/01_Regional/GDEA_forward_filled.parquet\")\n",
    "df_hbea_trading.to_parquet(\"../../../02_Data_Processed/01_Carbon_Markets/01_Regional/HBEA_forward_filled.parquet\")\n",
    "\n",
    "print(\"\\nSaved trading-only data as standard forward_filled files\")\n",
    "print(\"All downstream processes will now use trading-only data by default\")"
   ]
  }
 ],
 "metadata": {
  "kernelspec": {
   "display_name": "carbon-trading",
   "language": "python",
   "name": "python3"
  },
  "language_info": {
   "codemirror_mode": {
    "name": "ipython",
    "version": 3
   },
   "file_extension": ".py",
   "mimetype": "text/x-python",
   "name": "python",
   "nbconvert_exporter": "python",
   "pygments_lexer": "ipython3",
   "version": "3.10.16"
  }
 },
 "nbformat": 4,
 "nbformat_minor": 2
}
