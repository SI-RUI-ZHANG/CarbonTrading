{
 "cells": [
  {
   "cell_type": "markdown",
   "metadata": {},
   "source": [
    "# Forward-fill and interpolate the price columns\n"
   ]
  },
  {
   "cell_type": "code",
   "execution_count": 36,
   "metadata": {},
   "outputs": [],
   "source": [
    "import pandas as pd\n",
    "import numpy as np\n",
    "\n",
    "# Load the data\n",
    "df_gdea = pd.read_parquet(\"../../../02_Data_Processed/01_Carbon_Markets/GDEA_processed.parquet\")\n",
    "df_hbea = pd.read_parquet(\"../../../02_Data_Processed/01_Carbon_Markets/HBEA_processed.parquet\")"
   ]
  },
  {
   "cell_type": "markdown",
   "metadata": {},
   "source": [
    "## Forward fill price columns"
   ]
  },
  {
   "cell_type": "code",
   "execution_count": 37,
   "metadata": {},
   "outputs": [],
   "source": [
    "# Forward fill\n",
    "\n",
    "# Forward fill price columns for both datasets\n",
    "df_gdea['close'] = df_gdea['close'].ffill()\n",
    "df_gdea['vwap'] = df_gdea['vwap'].ffill()\n",
    "\n",
    "df_hbea['close'] = df_hbea['close'].ffill()\n",
    "df_hbea['vwap'] = df_hbea['vwap'].ffill()\n",
    "\n",
    "# Save the forward-filled data\n",
    "df_gdea.to_parquet(\"../../../02_Data_Processed/01_Carbon_Markets/GDEA_forward_filled.parquet\")\n",
    "df_hbea.to_parquet(\"../../../02_Data_Processed/01_Carbon_Markets/HBEA_forward_filled.parquet\")\n",
    "df_gdea.to_csv(\"../../../02_Data_Processed/01_Carbon_Markets/GDEA_forward_filled.csv\")\n",
    "df_hbea.to_csv(\"../../../02_Data_Processed/01_Carbon_Markets/HBEA_forward_filled.csv\")"
   ]
  },
  {
   "cell_type": "markdown",
   "metadata": {},
   "source": [
    "## Interpolate price columns"
   ]
  },
  {
   "cell_type": "code",
   "execution_count": 38,
   "metadata": {},
   "outputs": [],
   "source": [
    "# Load the data\n",
    "df_gdea = pd.read_parquet(\"../../../02_Data_Processed/01_Carbon_Markets/GDEA_processed.parquet\")\n",
    "df_hbea = pd.read_parquet(\"../../../02_Data_Processed/01_Carbon_Markets/HBEA_processed.parquet\")"
   ]
  },
  {
   "cell_type": "code",
   "execution_count": 39,
   "metadata": {},
   "outputs": [],
   "source": [
    "# Interpolation\n",
    "\n",
    "# Interpolate price columns for both datasets\n",
    "df_gdea['close'] = df_gdea['close'].interpolate(method='linear', limit_direction='both').round(1)\n",
    "df_gdea['vwap'] = df_gdea['vwap'].interpolate(method='linear', limit_direction='both').round(1)\n",
    "df_hbea['close'] = df_hbea['close'].interpolate(method='linear', limit_direction='both').round(1)\n",
    "df_hbea['vwap'] = df_hbea['vwap'].interpolate(method='linear', limit_direction='both').round(1)\n",
    "\n",
    "# Save the interpolated data\n",
    "df_gdea.to_parquet(\"../../../02_Data_Processed/01_Carbon_Markets/GDEA_interpolated.parquet\")\n",
    "df_hbea.to_parquet(\"../../../02_Data_Processed/01_Carbon_Markets/HBEA_interpolated.parquet\")\n",
    "df_gdea.to_csv(\"../../../02_Data_Processed/01_Carbon_Markets/GDEA_interpolated.csv\")\n",
    "df_hbea.to_csv(\"../../../02_Data_Processed/01_Carbon_Markets/HBEA_interpolated.csv\")\n",
    "\n"
   ]
  }
 ],
 "metadata": {
  "kernelspec": {
   "display_name": "carbon-trading",
   "language": "python",
   "name": "python3"
  },
  "language_info": {
   "codemirror_mode": {
    "name": "ipython",
    "version": 3
   },
   "file_extension": ".py",
   "mimetype": "text/x-python",
   "name": "python",
   "nbconvert_exporter": "python",
   "pygments_lexer": "ipython3",
   "version": "3.10.16"
  }
 },
 "nbformat": 4,
 "nbformat_minor": 2
}
