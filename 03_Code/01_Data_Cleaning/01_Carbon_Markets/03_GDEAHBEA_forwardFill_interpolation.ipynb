{
 "cells": [
  {
   "cell_type": "markdown",
   "metadata": {},
   "source": [
    "# Forward-fill and interpolate the price columns\n"
   ]
  },
  {
   "cell_type": "code",
   "execution_count": 1,
   "metadata": {},
   "outputs": [],
   "source": [
    "import pandas as pd\n",
    "import numpy as np\n",
    "\n",
    "# Load the data\n",
    "df_gdea = pd.read_parquet(\"../../../02_Data_Processed/01_Carbon_Markets/01_Regional/GDEA_processed.parquet\")\n",
    "df_hbea = pd.read_parquet(\"../../../02_Data_Processed/01_Carbon_Markets/01_Regional/HBEA_processed.parquet\")"
   ]
  },
  {
   "cell_type": "markdown",
   "metadata": {},
   "source": [
    "## Forward fill price columns"
   ]
  },
  {
   "cell_type": "code",
   "execution_count": 2,
   "metadata": {},
   "outputs": [],
   "source": [
    "# Forward fill\n",
    "\n",
    "# Forward fill price columns for both datasets\n",
    "df_gdea['close'] = df_gdea['close'].ffill()\n",
    "df_gdea['vwap'] = df_gdea['vwap'].ffill()\n",
    "\n",
    "df_hbea['close'] = df_hbea['close'].ffill()\n",
    "df_hbea['vwap'] = df_hbea['vwap'].ffill()\n",
    "\n",
    "# Save the forward-filled data\n",
    "df_gdea.to_parquet(\"../../../02_Data_Processed/01_Carbon_Markets/01_Regional/GDEA_forward_filled.parquet\")\n",
    "df_hbea.to_parquet(\"../../../02_Data_Processed/01_Carbon_Markets/01_Regional/HBEA_forward_filled.parquet\")"
   ]
  },
  {
   "cell_type": "markdown",
   "metadata": {},
   "source": [
    "## Interpolate price columns"
   ]
  },
  {
   "cell_type": "code",
   "execution_count": 3,
   "metadata": {},
   "outputs": [],
   "source": [
    "# Load the data\n",
    "df_gdea = pd.read_parquet(\"../../../02_Data_Processed/01_Carbon_Markets/01_Regional/GDEA_processed.parquet\")\n",
    "df_hbea = pd.read_parquet(\"../../../02_Data_Processed/01_Carbon_Markets/01_Regional/HBEA_processed.parquet\")"
   ]
  },
  {
   "cell_type": "code",
   "execution_count": null,
   "metadata": {},
   "outputs": [],
   "source": "# Save the interpolated data\ndf_gdea.to_parquet(\"../../../02_Data_Processed/01_Carbon_Markets/01_Regional/GDEA_interpolated.parquet\")\ndf_hbea.to_parquet(\"../../../02_Data_Processed/01_Carbon_Markets/01_Regional/HBEA_interpolated.parquet\")"
  },
  {
   "cell_type": "markdown",
   "source": "## Add gap features and create trading-only versions",
   "metadata": {}
  },
  {
   "cell_type": "code",
   "source": "# Reload forward-filled data for gap analysis\ndf_gdea = pd.read_parquet(\"../../../02_Data_Processed/01_Carbon_Markets/01_Regional/GDEA_forward_filled.parquet\")\ndf_hbea = pd.read_parquet(\"../../../02_Data_Processed/01_Carbon_Markets/01_Regional/HBEA_forward_filled.parquet\")\n\ndef add_gap_features(df):\n    \"\"\"\n    Add features to track gaps between trading days.\n    This captures weekend/holiday information before dropping non-trading days.\n    \"\"\"\n    df = df.copy()\n    df['gap_days'] = 0\n    \n    # Get trading dates only\n    trading_dates = df[df['is_open'] == True].index\n    \n    # Calculate gaps between consecutive trading days\n    for i in range(1, len(trading_dates)):\n        current_date = trading_dates[i]\n        prev_date = trading_dates[i-1]\n        gap = (current_date - prev_date).days\n        df.loc[current_date, 'gap_days'] = gap\n    \n    # Add binary indicators for common patterns\n    df['post_weekend'] = df['gap_days'] == 3  # Friday to Monday\n    df['post_holiday'] = df['gap_days'] > 3   # Longer gaps indicate holidays\n    \n    return df\n\n# Apply gap features\nprint(\"Adding gap features...\")\ndf_gdea = add_gap_features(df_gdea)\ndf_hbea = add_gap_features(df_hbea)\n\n# Verify gap features\nprint(f\"GDEA gap_days distribution:\\n{df_gdea['gap_days'].value_counts().head()}\")\nprint(f\"\\nHBEA gap_days distribution:\\n{df_hbea['gap_days'].value_counts().head()}\")\nprint(f\"\\nWeekend patterns detected:\")\nprint(f\"GDEA post_weekend days: {df_gdea['post_weekend'].sum()}\")\nprint(f\"HBEA post_weekend days: {df_hbea['post_weekend'].sum()}\")",
   "metadata": {},
   "execution_count": null,
   "outputs": []
  },
  {
   "cell_type": "markdown",
   "source": "## Create and save trading-only versions",
   "metadata": {}
  },
  {
   "cell_type": "code",
   "source": "# Create trading-only versions (drop non-trading days)\ndf_gdea_trading = df_gdea[df_gdea['is_open'] == True].copy()\ndf_hbea_trading = df_hbea[df_hbea['is_open'] == True].copy()\n\nprint(f\"Original GDEA shape: {df_gdea.shape}\")\nprint(f\"Trading-only GDEA shape: {df_gdea_trading.shape}\")\nprint(f\"Removed {df_gdea.shape[0] - df_gdea_trading.shape[0]} non-trading days ({(df_gdea.shape[0] - df_gdea_trading.shape[0])/df_gdea.shape[0]*100:.1f}%)\")\n\nprint(f\"\\nOriginal HBEA shape: {df_hbea.shape}\")\nprint(f\"Trading-only HBEA shape: {df_hbea_trading.shape}\")\nprint(f\"Removed {df_hbea.shape[0] - df_hbea_trading.shape[0]} non-trading days ({(df_hbea.shape[0] - df_hbea_trading.shape[0])/df_hbea.shape[0]*100:.1f}%)\")\n\n# Save both versions - keep originals for now, add trading-only versions\ndf_gdea.to_parquet(\"../../../02_Data_Processed/01_Carbon_Markets/01_Regional/GDEA_forward_filled.parquet\")\ndf_gdea_trading.to_parquet(\"../../../02_Data_Processed/01_Carbon_Markets/01_Regional/GDEA_trading_only.parquet\")\n\ndf_hbea.to_parquet(\"../../../02_Data_Processed/01_Carbon_Markets/01_Regional/HBEA_forward_filled.parquet\")\ndf_hbea_trading.to_parquet(\"../../../02_Data_Processed/01_Carbon_Markets/01_Regional/HBEA_trading_only.parquet\")\n\nprint(\"\\nSaved both versions:\")\nprint(\"  - Original (with gap features): *_forward_filled.parquet\")\nprint(\"  - Trading-only: *_trading_only.parquet\")",
   "metadata": {},
   "execution_count": null,
   "outputs": []
  }
 ],
 "metadata": {
  "kernelspec": {
   "display_name": "carbon-trading",
   "language": "python",
   "name": "python3"
  },
  "language_info": {
   "codemirror_mode": {
    "name": "ipython",
    "version": 3
   },
   "file_extension": ".py",
   "mimetype": "text/x-python",
   "name": "python",
   "nbconvert_exporter": "python",
   "pygments_lexer": "ipython3",
   "version": "3.10.16"
  }
 },
 "nbformat": 4,
 "nbformat_minor": 2
}