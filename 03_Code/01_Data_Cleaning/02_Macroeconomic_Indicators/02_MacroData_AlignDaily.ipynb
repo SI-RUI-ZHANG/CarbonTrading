{
 "cells": [
  {
   "cell_type": "markdown",
   "metadata": {},
   "source": [
    "# Align Macroeconomic Indicators to daily frequency"
   ]
  },
  {
   "cell_type": "markdown",
   "metadata": {},
   "source": [
    "## Import Packages"
   ]
  },
  {
   "cell_type": "code",
   "execution_count": 1,
   "metadata": {},
   "outputs": [],
   "source": [
    "import os\n",
    "from pathlib import Path\n",
    "import logging\n",
    "import warnings\n",
    "\n",
    "import pandas as pd\n",
    "pd.set_option('future.no_silent_downcasting', True)\n",
    "\n",
    "import matplotlib.pyplot as plt\n",
    "import numpy as np\n",
    "import ruptures as rpt\n",
    "\n",
    "from datetime import datetime\n",
    "import exchange_calendars as xc\n",
    "\n",
    "# for Parquet I/O\n",
    "import pyarrow as pa\n",
    "import pyarrow.parquet as pq"
   ]
  },
  {
   "cell_type": "markdown",
   "metadata": {},
   "source": [
    "## Read in Files"
   ]
  },
  {
   "cell_type": "code",
   "execution_count": 2,
   "metadata": {},
   "outputs": [],
   "source": [
    "ffill_files = Path(\"../../../02_Data_Processed/02_Macroeconomic_Indicators/01_Forward_Filled/_fileNames.txt\").read_text(encoding=\"utf-8\").splitlines()\n",
    "interp_files = Path(\"../../../02_Data_Processed/02_Macroeconomic_Indicators/02_Interpolated/_fileNames.txt\").read_text(encoding=\"utf-8\").splitlines()"
   ]
  },
  {
   "cell_type": "markdown",
   "metadata": {},
   "source": [
    "## Align to daily frequency with forward fill"
   ]
  },
  {
   "cell_type": "code",
   "execution_count": 3,
   "metadata": {},
   "outputs": [],
   "source": [
    "\n",
    "src_dir = \"../../../02_Data_Processed/02_Macroeconomic_Indicators/01_Forward_Filled\"\n",
    "des_dir = \"../../../02_Data_Processed/02_Macroeconomic_Indicators/03_Forward_Filled_Daily\"\n",
    "Path(des_dir).mkdir(parents=True, exist_ok=True)\n",
    "\n",
    "def forward_fill_align_daily(relative_path, filename):\n",
    "    file_path = Path(relative_path) / filename\n",
    "    df = pd.read_parquet(file_path)\n",
    "    df = df.set_index('date')\n",
    "    df.index = pd.DatetimeIndex(df.index)\n",
    "    start, end = df.index.min(), df.index.max()\n",
    "    all_days = pd.date_range(start, end, freq=\"D\")\n",
    "\n",
    "    original_dates = set(df.index)\n",
    "    df_daily = df.reindex(all_days).ffill()\n",
    "    df_daily = df_daily.infer_objects(copy=False)\n",
    "    \n",
    "    df_daily['is_filled_daily'] = ~df_daily.index.isin(original_dates)\n",
    "    df_daily = df_daily.reset_index().rename(columns={'index': 'date'})\n",
    "    return df_daily"
   ]
  },
  {
   "cell_type": "code",
   "execution_count": 4,
   "metadata": {},
   "outputs": [],
   "source": [
    "for f in ffill_files:\n",
    "    df_daily = forward_fill_align_daily(src_dir, f)\n",
    "    outname = f.replace('.parquet', '_daily.parquet')\n",
    "    df_daily.to_parquet(Path(des_dir) / outname, index=False)\n"
   ]
  },
  {
   "cell_type": "markdown",
   "metadata": {},
   "source": [
    "## Align to daily frequency with interpolation"
   ]
  },
  {
   "cell_type": "code",
   "execution_count": 5,
   "metadata": {},
   "outputs": [],
   "source": [
    "src_dir = \"../../../02_Data_Processed/02_Macroeconomic_Indicators/02_Interpolated\"\n",
    "des_dir = \"../../../02_Data_Processed/02_Macroeconomic_Indicators/04_Interpolated_Daily\"\n",
    "Path(des_dir).mkdir(parents=True, exist_ok=True)\n",
    "\n",
    "\n",
    "def interpolate_align_daily(relative_path, filename):\n",
    "    file_path = Path(relative_path) / filename\n",
    "    df = pd.read_parquet(file_path)\n",
    "    df = df.set_index('date')\n",
    "    df.index = pd.DatetimeIndex(df.index)\n",
    "    start, end = df.index.min(), df.index.max()\n",
    "    all_days = pd.date_range(start, end, freq=\"D\")\n",
    "\n",
    "    original_dates = set(df.index)\n",
    "\n",
    "    df_daily = df.reindex(all_days)\n",
    "    df_daily = df_daily.infer_objects(copy=False)\n",
    "    # Interpolate only the value column(s)\n",
    "    df_daily['value'] = df_daily['value'].interpolate(method='linear', limit_direction='both').round(1)\n",
    "    df_daily['value_filled'] = df_daily['value_filled'].ffill()\n",
    "    # Add indicator for interpolated rows\n",
    "    df_daily['is_interpolated_daily'] = ~df_daily.index.isin(original_dates)\n",
    "    df_daily = df_daily.reset_index().rename(columns={'index': 'date'})\n",
    "    return df_daily"
   ]
  },
  {
   "cell_type": "code",
   "execution_count": 6,
   "metadata": {},
   "outputs": [],
   "source": [
    "for f in interp_files:\n",
    "    df_daily = interpolate_align_daily(src_dir, f)\n",
    "    outname = f.replace('.parquet', '_daily.parquet')\n",
    "    df_daily.to_parquet(Path(des_dir) / outname, index=False)"
   ]
  }
 ],
 "metadata": {
  "kernelspec": {
   "display_name": "carbon-trading",
   "language": "python",
   "name": "python3"
  },
  "language_info": {
   "codemirror_mode": {
    "name": "ipython",
    "version": 3
   },
   "file_extension": ".py",
   "mimetype": "text/x-python",
   "name": "python",
   "nbconvert_exporter": "python",
   "pygments_lexer": "ipython3",
   "version": "3.10.16"
  }
 },
 "nbformat": 4,
 "nbformat_minor": 2
}
