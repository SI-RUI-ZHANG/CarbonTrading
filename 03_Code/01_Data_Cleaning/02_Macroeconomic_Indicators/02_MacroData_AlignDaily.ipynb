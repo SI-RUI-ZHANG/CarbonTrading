{
 "cells": [
  {
   "cell_type": "markdown",
   "metadata": {},
   "source": [
    "# Align Macroeconomic Indicators to daily frequency"
   ]
  },
  {
   "cell_type": "markdown",
   "metadata": {},
   "source": [
    "## Import Packages"
   ]
  },
  {
   "cell_type": "code",
   "execution_count": 150,
   "metadata": {},
   "outputs": [],
   "source": [
    "import os\n",
    "from pathlib import Path\n",
    "import logging\n",
    "import warnings\n",
    "\n",
    "import pandas as pd\n",
    "pd.set_option('future.no_silent_downcasting', True)\n",
    "\n",
    "import matplotlib.pyplot as plt\n",
    "import numpy as np\n",
    "import ruptures as rpt\n",
    "\n",
    "from datetime import datetime\n",
    "import exchange_calendars as xc\n",
    "\n",
    "# for Parquet I/O\n",
    "import pyarrow as pa\n",
    "import pyarrow.parquet as pq"
   ]
  },
  {
   "cell_type": "markdown",
   "metadata": {},
   "source": [
    "## Read in Files"
   ]
  },
  {
   "cell_type": "code",
   "execution_count": 151,
   "metadata": {},
   "outputs": [],
   "source": [
    "ffill_files = Path(\"../../../02_Data_Processed/02_Macroeconomic_Indicators/01_Forward_Filled/_fileNames.txt\").read_text(encoding=\"utf-8\").splitlines()\n",
    "interp_files = Path(\"../../../02_Data_Processed/02_Macroeconomic_Indicators/02_Interpolated/_fileNames.txt\").read_text(encoding=\"utf-8\").splitlines()"
   ]
  },
  {
   "cell_type": "markdown",
   "metadata": {},
   "source": [
    "## Align to daily frequency with forward fill"
   ]
  },
  {
   "cell_type": "code",
   "execution_count": 152,
   "metadata": {},
   "outputs": [],
   "source": [
    "\n",
    "src_dir = \"../../../02_Data_Processed/02_Macroeconomic_Indicators/01_Forward_Filled\"\n",
    "des_dir = \"../../../02_Data_Processed/02_Macroeconomic_Indicators/03_Forward_Filled_Daily\"\n",
    "Path(des_dir).mkdir(parents=True, exist_ok=True)\n",
    "\n",
    "def forward_fill_align_daily(relative_path, filename):\n",
    "    file_path = Path(relative_path) / filename\n",
    "    df = pd.read_parquet(file_path)\n",
    "    df = df.set_index('date')\n",
    "    df.index = pd.DatetimeIndex(df.index)\n",
    "    start, end = df.index.min(), df.index.max()\n",
    "    all_days = pd.date_range(start, end, freq=\"D\")\n",
    "\n",
    "    original_dates = set(df.index)\n",
    "    df_daily = df.reindex(all_days).ffill()\n",
    "    df_daily = df_daily.infer_objects(copy=False)\n",
    "    \n",
    "    df_daily['is_filled_daily'] = ~df_daily.index.isin(original_dates)\n",
    "    df_daily = df_daily.reset_index().rename(columns={'index': 'date'})\n",
    "    return df_daily"
   ]
  },
  {
   "cell_type": "code",
   "execution_count": 153,
   "metadata": {},
   "outputs": [],
   "source": [
    "for f in ffill_files:\n",
    "    df_daily = forward_fill_align_daily(src_dir, f)\n",
    "    outname = f.replace('.parquet', '_daily.parquet')\n",
    "    df_daily.to_parquet(Path(des_dir) / outname, index=False)\n"
   ]
  },
  {
   "cell_type": "markdown",
   "metadata": {},
   "source": [
    "## Align to daily frequency with interpolation"
   ]
  },
  {
   "cell_type": "code",
   "execution_count": 154,
   "metadata": {},
   "outputs": [],
   "source": [
    "src_dir = \"../../../02_Data_Processed/02_Macroeconomic_Indicators/02_Interpolated\"\n",
    "des_dir = \"../../../02_Data_Processed/02_Macroeconomic_Indicators/04_Interpolated_Daily\"\n",
    "Path(des_dir).mkdir(parents=True, exist_ok=True)\n",
    "\n",
    "\n",
    "def interpolate_align_daily(relative_path, filename):\n",
    "    file_path = Path(relative_path) / filename\n",
    "    df = pd.read_parquet(file_path)\n",
    "    df = df.set_index('date')\n",
    "    df.index = pd.DatetimeIndex(df.index)\n",
    "    start, end = df.index.min(), df.index.max()\n",
    "    all_days = pd.date_range(start, end, freq=\"D\")\n",
    "\n",
    "    original_dates = set(df.index)\n",
    "\n",
    "    df_daily = df.reindex(all_days)\n",
    "    df_daily = df_daily.infer_objects(copy=False)\n",
    "    # Interpolate only the value column(s)\n",
    "    df_daily['value'] = df_daily['value'].interpolate(method='linear', limit_direction='both').round(1)\n",
    "    df_daily['value_filled'] = df_daily['value_filled'].ffill()\n",
    "    # Add indicator for interpolated rows\n",
    "    df_daily['is_interpolated_daily'] = ~df_daily.index.isin(original_dates)\n",
    "    df_daily = df_daily.reset_index().rename(columns={'index': 'date'})\n",
    "    return df_daily"
   ]
  },
  {
   "cell_type": "code",
   "execution_count": 155,
   "metadata": {},
   "outputs": [
    {
     "name": "stdout",
     "output_type": "stream",
     "text": [
      "        date  value value_filled  is_interpolated_daily\n",
      "0 2012-01-31   21.3        False                  False\n",
      "1 2012-02-01   21.3        False                   True\n",
      "2 2012-02-02   21.3        False                   True\n",
      "3 2012-02-03   21.3        False                   True\n",
      "4 2012-02-04   21.3        False                   True\n",
      "        date  value value_filled  is_interpolated_daily\n",
      "0 2012-01-31   27.0        False                  False\n",
      "1 2012-02-01   27.0        False                   True\n",
      "2 2012-02-02   27.0        False                   True\n",
      "3 2012-02-03   27.0        False                   True\n",
      "4 2012-02-04   27.0        False                   True\n",
      "        date         value value_filled  is_interpolated_daily\n",
      "0 2012-01-31  3.970000e+07        False                  False\n",
      "1 2012-02-01  3.960345e+07        False                   True\n",
      "2 2012-02-02  3.950690e+07        False                   True\n",
      "3 2012-02-03  3.941034e+07        False                   True\n",
      "4 2012-02-04  3.931379e+07        False                   True\n",
      "        date         value value_filled  is_interpolated_daily\n",
      "0 2012-01-31  25600.000000        False                  False\n",
      "1 2012-02-01  25724.137931        False                   True\n",
      "2 2012-02-02  25848.275862        False                   True\n",
      "3 2012-02-03  25972.413793        False                   True\n",
      "4 2012-02-04  26096.551724        False                   True\n",
      "        date         value value_filled  is_interpolated_daily\n",
      "0 2012-01-31  10174.100000        False                  False\n",
      "1 2012-02-01  10216.862069        False                   True\n",
      "2 2012-02-02  10259.624138        False                   True\n",
      "3 2012-02-03  10302.386207        False                   True\n",
      "4 2012-02-04  10345.148276        False                   True\n",
      "        date        value value_filled  is_interpolated_daily\n",
      "0 2012-01-31  5673.300000        False                  False\n",
      "1 2012-02-01  5670.368966        False                   True\n",
      "2 2012-02-02  5667.437931        False                   True\n",
      "3 2012-02-03  5664.506897        False                   True\n",
      "4 2012-02-04  5661.575862        False                   True\n",
      "        date        value value_filled  is_interpolated_daily\n",
      "0 2012-01-31  2942.700000        False                  False\n",
      "1 2012-02-01  2949.717241        False                   True\n",
      "2 2012-02-02  2956.734483        False                   True\n",
      "3 2012-02-03  2963.751724        False                   True\n",
      "4 2012-02-04  2970.768966        False                   True\n",
      "        date         value value_filled  is_interpolated_daily\n",
      "0 2012-01-31  3.633575e+07        False                  False\n",
      "1 2012-02-01  3.641485e+07        False                   True\n",
      "2 2012-02-02  3.649395e+07        False                   True\n",
      "3 2012-02-03  3.657304e+07        False                   True\n",
      "4 2012-02-04  3.665214e+07        False                   True\n",
      "        date        value value_filled  is_interpolated_daily\n",
      "0 2012-01-31  9754.000000        False                  False\n",
      "1 2012-02-01  9777.344828        False                   True\n",
      "2 2012-02-02  9800.689655        False                   True\n",
      "3 2012-02-03  9824.034483        False                   True\n",
      "4 2012-02-04  9847.379310        False                   True\n",
      "        date         value value_filled  is_interpolated_daily\n",
      "0 2012-01-31  2.560000e+06        False                  False\n",
      "1 2012-02-01  2.580690e+06        False                   True\n",
      "2 2012-02-02  2.601379e+06        False                   True\n",
      "3 2012-02-03  2.622069e+06        False                   True\n",
      "4 2012-02-04  2.642759e+06        False                   True\n",
      "        date         value value_filled  is_interpolated_daily\n",
      "0 2012-01-31  1.170000e+06        False                  False\n",
      "1 2012-02-01  1.171379e+06        False                   True\n",
      "2 2012-02-02  1.172759e+06        False                   True\n",
      "3 2012-02-03  1.174138e+06        False                   True\n",
      "4 2012-02-04  1.175517e+06        False                   True\n",
      "        date     value value_filled  is_interpolated_daily\n",
      "0 2012-01-31  4.500000        False                  False\n",
      "1 2012-02-01  4.455172        False                   True\n",
      "2 2012-02-02  4.410345        False                   True\n",
      "3 2012-02-03  4.365517        False                   True\n",
      "4 2012-02-04  4.320690        False                   True\n",
      "        date      value value_filled  is_interpolated_daily\n",
      "0 2012-01-31  50.500000        False                  False\n",
      "1 2012-02-01  50.517241        False                   True\n",
      "2 2012-02-02  50.534483        False                   True\n",
      "3 2012-02-03  50.551724        False                   True\n",
      "4 2012-02-04  50.568966        False                   True\n",
      "        date  value  value_filled  is_interpolated_daily\n",
      "0 2012-01-01  110.2         False                  False\n",
      "1 2012-01-02  110.2         False                  False\n",
      "2 2012-01-03  110.2         False                  False\n",
      "3 2012-01-04  110.2         False                  False\n",
      "4 2012-01-05  110.2         False                  False\n",
      "        date  value  value_filled  is_interpolated_daily\n",
      "0 2012-01-01  112.1         False                  False\n",
      "1 2012-01-02  112.1         False                  False\n",
      "2 2012-01-03  112.1         False                  False\n",
      "3 2012-01-04  113.7         False                  False\n",
      "4 2012-01-05  112.7         False                  False\n",
      "        date  value  value_filled  is_interpolated_daily\n",
      "0 2012-01-01    6.3         False                  False\n",
      "1 2012-01-02    6.3         False                  False\n",
      "2 2012-01-03    6.3         False                  False\n",
      "3 2012-01-04    6.3         False                  False\n",
      "4 2012-01-05    6.4         False                  False\n",
      "        date  value  value_filled  is_interpolated_daily\n",
      "0 2012-01-01    3.1         False                  False\n",
      "1 2012-01-02    3.1         False                  False\n",
      "2 2012-01-03    3.1         False                  False\n",
      "3 2012-01-04    3.1         False                  False\n",
      "4 2012-01-05    3.0         False                  False\n",
      "        date  value  value_filled  is_interpolated_daily\n",
      "0 2012-01-01    6.3         False                  False\n",
      "1 2012-01-02    6.3         False                  False\n",
      "2 2012-01-03    6.3         False                  False\n",
      "3 2012-01-04    6.3         False                  False\n",
      "4 2012-01-05    6.3         False                  False\n",
      "        date          value value_filled  is_interpolated_daily\n",
      "0 2012-03-31  119377.500000        False                  False\n",
      "1 2012-04-01  120844.436264        False                   True\n",
      "2 2012-04-02  122311.372527        False                   True\n",
      "3 2012-04-03  123778.308791        False                   True\n",
      "4 2012-04-04  125245.245055        False                   True\n",
      "        date         value value_filled  is_interpolated_daily\n",
      "0 2012-03-31  11510.800000        False                  False\n",
      "1 2012-04-01  11672.229670        False                   True\n",
      "2 2012-04-02  11833.659341        False                   True\n",
      "3 2012-04-03  11995.089011        False                   True\n",
      "4 2012-04-04  12156.518681        False                   True\n",
      "        date        value value_filled  is_interpolated_daily\n",
      "0 2012-03-31  4233.900000        False                  False\n",
      "1 2012-04-01  4296.004396        False                   True\n",
      "2 2012-04-02  4358.108791        False                   True\n",
      "3 2012-04-03  4420.213187        False                   True\n",
      "4 2012-04-04  4482.317582        False                   True\n"
     ]
    }
   ],
   "source": [
    "for f in interp_files:\n",
    "    df_daily = interpolate_align_daily(src_dir, f)\n",
    "    print(df_daily.head())\n",
    "    outname = f.replace('.parquet', '_daily.parquet')\n",
    "    df_daily.to_parquet(Path(des_dir) / outname, index=False)"
   ]
  }
 ],
 "metadata": {
  "kernelspec": {
   "display_name": "carbon-trading",
   "language": "python",
   "name": "python3"
  },
  "language_info": {
   "codemirror_mode": {
    "name": "ipython",
    "version": 3
   },
   "file_extension": ".py",
   "mimetype": "text/x-python",
   "name": "python",
   "nbconvert_exporter": "python",
   "pygments_lexer": "ipython3",
   "version": "3.10.16"
  }
 },
 "nbformat": 4,
 "nbformat_minor": 2
}
