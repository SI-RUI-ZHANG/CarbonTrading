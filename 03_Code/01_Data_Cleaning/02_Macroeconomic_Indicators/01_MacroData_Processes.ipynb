{
 "cells": [
  {
   "cell_type": "markdown",
   "id": "a249f00a",
   "metadata": {},
   "source": [
    "## Import packages"
   ]
  },
  {
   "cell_type": "code",
   "execution_count": 10,
   "id": "67a560ae",
   "metadata": {
    "ExecuteTime": {
     "end_time": "2025-05-17T17:17:16.747946Z",
     "start_time": "2025-05-17T17:17:15.338725Z"
    }
   },
   "outputs": [],
   "source": [
    "import os\n",
    "from pathlib import Path\n",
    "import logging\n",
    "import warnings\n",
    "\n",
    "import pandas as pd\n",
    "import matplotlib.pyplot as plt\n",
    "import numpy as np\n",
    "import ruptures as rpt\n",
    "\n",
    "from datetime import datetime\n",
    "import exchange_calendars as xc\n",
    "\n",
    "# for Parquet I/O\n",
    "import pyarrow as pa\n",
    "import pyarrow.parquet as pq"
   ]
  },
  {
   "cell_type": "code",
   "execution_count": 11,
   "id": "8713ac4de8e625c4",
   "metadata": {},
   "outputs": [
    {
     "data": {
      "text/plain": [
       "['广东_工业增加值_可比价_规模以上工业企业_当月同比.csv',\n",
       " '湖北_工业增加值_可比价_规模以上工业企业_当月同比.csv',\n",
       " '中国_产量_原油加工量_当月值.csv',\n",
       " '中国_产量_原煤_当月值.csv',\n",
       " '中国_产量_水泥_当月值.csv',\n",
       " '中国_产量_粗钢_当月值.csv',\n",
       " '中国_发电量_火电_当月值.csv',\n",
       " '中国_全社会用电量_当月值.csv',\n",
       " '中国_社会融资规模_当月值.csv',\n",
       " '广东_用电量_当月值.csv',\n",
       " '湖北_用电量_当月值.csv',\n",
       " '现货价_动力煤_欧洲ARA港.csv',\n",
       " '中国_CPI_当月同比.csv',\n",
       " '中国_GDP_现价_累计值.csv',\n",
       " '广东_GDP_累计值.csv',\n",
       " '湖北_GDP_累计值.csv',\n",
       " '中国_制造业PMI.csv',\n",
       " '期货结算价(连续)_布伦特原油.csv',\n",
       " '期货结算价(连续)_欧盟排放配额(EUA).csv',\n",
       " '期货收盘价(连续)_NYMEX天然气.csv',\n",
       " 'CFETS_即期汇率_美元兑人民币.csv']"
      ]
     },
     "execution_count": 11,
     "metadata": {},
     "output_type": "execute_result"
    }
   ],
   "source": [
    "# Read in the file names from \"../../../01_Data_Raw/02_Macroeconomic_Indicators/_fileNames.txt\"\n",
    "file_names = []\n",
    "with open(\"../../../01_Data_Raw/02_Macroeconomic_Indicators/_fileNames.txt\", \"r\") as f:\n",
    "    file_names = [line.strip() for line in f if line.strip()]\n",
    "file_names"
   ]
  },
  {
   "cell_type": "markdown",
   "id": "1f2f191f",
   "metadata": {},
   "source": [
    "## For all file in `_fileNmaes.txt`\n",
    "1. Remove first $8$ rows (meta data).\n",
    "2. Remove last $2$ rows (meta data).\n",
    "3. Cast first column to datetime object.\n",
    "4. Remove all data prior year 2012.\n",
    "5. Cast second column to numerical."
   ]
  },
  {
   "cell_type": "code",
   "execution_count": 12,
   "id": "b5eff6b9",
   "metadata": {},
   "outputs": [],
   "source": [
    "def remove_meta_data_and_cast_types(relative_path_input, filename):\n",
    "    input_file = Path(relative_path_input) / filename\n",
    "    output_file = f\"../_temp_data_files/01_{Path(filename).stem}_Interim1.parquet\"\n",
    "    # Add header row: date, value\n",
    "    df = pd.read_csv(\n",
    "        input_file,\n",
    "        skiprows=8,\n",
    "        skipfooter=2,\n",
    "        encoding=\"gbk\",\n",
    "        engine='python',\n",
    "        header=None,\n",
    "        names=[\"date\", \"value\"]\n",
    "    )\n",
    "    df[\"date\"] = pd.to_datetime(df[\"date\"], errors='coerce')\n",
    "    df[\"value\"] = pd.to_numeric(df[\"value\"], errors='coerce')\n",
    "    df = df[(pd.to_datetime(\"2025-04-29\") >= df[\"date\"]) & (df[\"date\"] >= pd.to_datetime(\"2012-01-01\"))]\n",
    "    df.to_parquet(output_file, index=False)\n",
    "    return output_file"
   ]
  },
  {
   "cell_type": "code",
   "execution_count": 13,
   "id": "8fb0867f",
   "metadata": {},
   "outputs": [],
   "source": [
    "output_txt = \"01_Interim1_paths.txt\"\n",
    "with open(output_txt, \"w\") as f_out:\n",
    "    for f in file_names:\n",
    "        output_path = remove_meta_data_and_cast_types(\"../../../01_Data_Raw/02_Macroeconomic_Indicators\", f)\n",
    "        f_out.write(output_path + \"\\n\")"
   ]
  },
  {
   "cell_type": "markdown",
   "id": "6ba9af02",
   "metadata": {},
   "source": [
    "## Group Files Based on Frequency"
   ]
  },
  {
   "cell_type": "code",
   "execution_count": 14,
   "id": "00c48afb",
   "metadata": {},
   "outputs": [],
   "source": [
    "def infer_freq(df):\n",
    "    dates = df.iloc[:, 0].sort_values()\n",
    "    diffs = dates.diff().dropna()\n",
    "    median_days = diffs.median().days\n",
    "    if 27 < median_days < 32:\n",
    "        return \"M\"  # Monthly\n",
    "    elif 85 < median_days < 95:\n",
    "        return \"Q\"  # Quarterly\n",
    "    elif median_days == 1:\n",
    "        return \"D\"  # Daily\n",
    "    else:\n",
    "        return f\"Other_{median_days}\""
   ]
  },
  {
   "cell_type": "code",
   "execution_count": 15,
   "id": "92fc6851",
   "metadata": {},
   "outputs": [
    {
     "name": "stdout",
     "output_type": "stream",
     "text": [
      "M:\n",
      "  01_广东_工业增加值_可比价_规模以上工业企业_当月同比_Interim1.parquet\n",
      "  01_湖北_工业增加值_可比价_规模以上工业企业_当月同比_Interim1.parquet\n",
      "  01_中国_产量_原油加工量_当月值_Interim1.parquet\n",
      "  01_中国_产量_原煤_当月值_Interim1.parquet\n",
      "  01_中国_产量_水泥_当月值_Interim1.parquet\n",
      "  01_中国_产量_粗钢_当月值_Interim1.parquet\n",
      "  01_中国_发电量_火电_当月值_Interim1.parquet\n",
      "  01_中国_全社会用电量_当月值_Interim1.parquet\n",
      "  01_中国_社会融资规模_当月值_Interim1.parquet\n",
      "  01_广东_用电量_当月值_Interim1.parquet\n",
      "  01_湖北_用电量_当月值_Interim1.parquet\n",
      "  01_中国_CPI_当月同比_Interim1.parquet\n",
      "  01_中国_制造业PMI_Interim1.parquet\n",
      "D:\n",
      "  01_现货价_动力煤_欧洲ARA港_Interim1.parquet\n",
      "  01_期货结算价(连续)_布伦特原油_Interim1.parquet\n",
      "  01_期货结算价(连续)_欧盟排放配额(EUA)_Interim1.parquet\n",
      "  01_期货收盘价(连续)_NYMEX天然气_Interim1.parquet\n",
      "  01_CFETS_即期汇率_美元兑人民币_Interim1.parquet\n",
      "Q:\n",
      "  01_中国_GDP_现价_累计值_Interim1.parquet\n",
      "  01_广东_GDP_累计值_Interim1.parquet\n",
      "  01_湖北_GDP_累计值_Interim1.parquet\n"
     ]
    }
   ],
   "source": [
    "# Read the list of Parquet file \n",
    "with open(\"01_Interim1_paths.txt\", \"r\") as f:\n",
    "    parquet_files = [line.strip() for line in f if line.strip()]\n",
    "    \n",
    "freq_groups = {}\n",
    "for f in parquet_files:\n",
    "    df = pd.read_parquet(f)\n",
    "    freq = infer_freq(df)\n",
    "    freq_groups.setdefault(freq, []).append(f)\n",
    "    \n",
    "\n",
    "# Print results\n",
    "for freq, files in freq_groups.items():\n",
    "    print(f\"{freq}:\")\n",
    "    for f in files:\n",
    "        print(f\"  {Path(f).name}\")"
   ]
  },
  {
   "cell_type": "code",
   "execution_count": 16,
   "id": "f2b0efa8",
   "metadata": {},
   "outputs": [
    {
     "name": "stdout",
     "output_type": "stream",
     "text": [
      "M:\n",
      "  01_广东_工业增加值_可比价_规模以上工业企业_当月同比_Interim1.parquet: 8.18% missing\n",
      "  01_湖北_工业增加值_可比价_规模以上工业企业_当月同比_Interim1.parquet: 8.49% missing\n",
      "  01_中国_产量_原油加工量_当月值_Interim1.parquet: 6.29% missing\n",
      "  01_中国_产量_原煤_当月值_Interim1.parquet: 7.23% missing\n",
      "  01_中国_产量_水泥_当月值_Interim1.parquet: 7.23% missing\n",
      "  01_中国_产量_粗钢_当月值_Interim1.parquet: 6.29% missing\n",
      "  01_中国_发电量_火电_当月值_Interim1.parquet: 6.29% missing\n",
      "  01_中国_全社会用电量_当月值_Interim1.parquet: 0.63% missing\n",
      "  01_中国_社会融资规模_当月值_Interim1.parquet: 0.00% missing\n",
      "  01_广东_用电量_当月值_Interim1.parquet: 1.89% missing\n",
      "  01_湖北_用电量_当月值_Interim1.parquet: 1.89% missing\n",
      "  01_中国_CPI_当月同比_Interim1.parquet: 0.00% missing\n",
      "  01_中国_制造业PMI_Interim1.parquet: 0.00% missing\n",
      "D:\n",
      "  01_现货价_动力煤_欧洲ARA港_Interim1.parquet: 25.33% missing\n",
      "  01_期货结算价(连续)_布伦特原油_Interim1.parquet: 14.69% missing\n",
      "  01_期货结算价(连续)_欧盟排放配额(EUA)_Interim1.parquet: 14.68% missing\n",
      "  01_期货收盘价(连续)_NYMEX天然气_Interim1.parquet: 15.76% missing\n",
      "  01_CFETS_即期汇率_美元兑人民币_Interim1.parquet: 16.78% missing\n",
      "Q:\n",
      "  01_中国_GDP_现价_累计值_Interim1.parquet: 0.00% missing\n",
      "  01_广东_GDP_累计值_Interim1.parquet: 0.00% missing\n",
      "  01_湖北_GDP_累计值_Interim1.parquet: 0.00% missing\n"
     ]
    }
   ],
   "source": [
    "for freq, files in freq_groups.items():\n",
    "    print(f\"{freq}:\")\n",
    "    for f in files:\n",
    "        df = pd.read_parquet(f)\n",
    "        n_rows = len(df)\n",
    "        n_missing = df.isna().sum().sum()\n",
    "        pct_missing = 100 * n_missing / (n_rows * df.shape[1]) if n_rows > 0 else 0\n",
    "        print(f\"  {Path(f).name}: {pct_missing:.2f}% missing\")"
   ]
  },
  {
   "cell_type": "markdown",
   "id": "64c802ed",
   "metadata": {},
   "source": [
    "## Fill all Missing Data"
   ]
  },
  {
   "cell_type": "markdown",
   "id": "bd6661fb",
   "metadata": {},
   "source": [
    "### Forward Fill"
   ]
  },
  {
   "cell_type": "code",
   "execution_count": 17,
   "id": "acfb094a",
   "metadata": {},
   "outputs": [],
   "source": [
    "dir_forward_fill = Path(\"../../../02_Data_Processed/02_Macroeconomic_Indicators/01_Forward_Filled\")\n",
    "dir_forward_fill.mkdir(parents=True, exist_ok=True)\n",
    "\n",
    "output_filenames = []\n",
    "\n",
    "\n",
    "for freq, files in freq_groups.items():\n",
    "    for f in files:\n",
    "        df = pd.read_parquet(f)\n",
    "        for col in df.columns[1:]:  # skip date col\n",
    "            filled_col = f\"{col}_filled\"\n",
    "            isna = df[col].isna()\n",
    "            df[filled_col] = False\n",
    "            df[col] = df[col].ffill()\n",
    "            df.loc[isna & df[col].notna(), filled_col] = True\n",
    "        base_name = Path(f).stem.replace(\"_Interim1\", \"\").removeprefix(\"01_\")\n",
    "        out_path_parquet = dir_forward_fill / f\"{base_name}_ffill.parquet\"\n",
    "        out_path_csv = dir_forward_fill / f\"{base_name}_ffill.csv\"\n",
    "        df.to_parquet(out_path_parquet, index=False)\n",
    "        df.to_csv(out_path_csv, index=False)\n",
    "        output_filenames.append(out_path_parquet.name)\n",
    "\n",
    "# Write _fileNames.txt\n",
    "with open(dir_forward_fill / \"_fileNames.txt\", \"w\") as f:\n",
    "    for name in output_filenames:\n",
    "        f.write(name + \"\\n\")"
   ]
  },
  {
   "cell_type": "markdown",
   "id": "1ccf99dc",
   "metadata": {},
   "source": [
    "### Fill with interpolation"
   ]
  },
  {
   "cell_type": "code",
   "execution_count": 18,
   "id": "bfe85265",
   "metadata": {},
   "outputs": [],
   "source": [
    "dir_interp = Path(\"../../../02_Data_Processed/02_Macroeconomic_Indicators/02_Interpolated\")\n",
    "dir_interp.mkdir(parents=True, exist_ok=True)\n",
    "\n",
    "output_filenames_interp = []\n",
    "\n",
    "for freq, files in freq_groups.items():\n",
    "    for f in files:\n",
    "        df = pd.read_parquet(f)\n",
    "        for col in df.columns[1:]:  # skip date col\n",
    "            filled_col = f\"{col}_filled\"\n",
    "            isna = df[col].isna()\n",
    "            df[filled_col] = False\n",
    "            # Interpolate\n",
    "            df[col] = df[col].interpolate(method=\"linear\", limit_direction=\"forward\")\n",
    "            # Round to one decimal\n",
    "            df[col] = df[col].round(1)\n",
    "            df.loc[isna & df[col].notna(), filled_col] = True\n",
    "        base_name = Path(f).stem.replace(\"_Interim1\", \"\").removeprefix(\"01_\")\n",
    "        out_path_parquet = dir_interp / f\"{base_name}_interp.parquet\"\n",
    "        out_path_csv = dir_interp / f\"{base_name}_interp.csv\"\n",
    "        df.to_parquet(out_path_parquet, index=False)\n",
    "        df.to_csv(out_path_csv, index=False)\n",
    "        output_filenames_interp.append(out_path_parquet.name)\n",
    "\n",
    "# Write _fileNames.txt\n",
    "with open(dir_interp / \"_fileNames.txt\", \"w\") as f:\n",
    "    for name in output_filenames_interp:\n",
    "        f.write(name + \"\\n\")"
   ]
  },
  {
   "cell_type": "markdown",
   "id": "02f36a03",
   "metadata": {},
   "source": []
  }
 ],
 "metadata": {
  "kernelspec": {
   "display_name": "carbon-trading",
   "language": "python",
   "name": "python3"
  },
  "language_info": {
   "codemirror_mode": {
    "name": "ipython",
    "version": 3
   },
   "file_extension": ".py",
   "mimetype": "text/x-python",
   "name": "python",
   "nbconvert_exporter": "python",
   "pygments_lexer": "ipython3",
   "version": "3.10.16"
  }
 },
 "nbformat": 5,
 "nbformat_minor": 9
}
